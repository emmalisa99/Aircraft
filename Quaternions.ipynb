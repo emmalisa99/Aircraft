{
 "cells": [
  {
   "cell_type": "markdown",
   "metadata": {},
   "source": [
    "## Conversion quaternion to Euler"
   ]
  },
  {
   "cell_type": "code",
   "execution_count": null,
   "metadata": {},
   "outputs": [],
   "source": [
    "from mpl_toolkits import mplot3d\n",
    "import numpy as np\n",
    "import matplotlib.pyplot as plt\n",
    "import panel as pn\n",
    "from math import *\n",
    "import holoviews as hv\n",
    "import param\n"
   ]
  },
  {
   "cell_type": "markdown",
   "metadata": {},
   "source": [
    "https://en.wikipedia.org/wiki/Conversion_between_quaternions_and_Euler_angles"
   ]
  },
  {
   "cell_type": "code",
   "execution_count": null,
   "metadata": {},
   "outputs": [],
   "source": [
    "def QuaternionToEuler(q0,q1,q2,q3) :\n",
    "    phi = atan( 2*(q0*q1+q2*q3) / (1 - 2*(q1**2 + q2**2)))\n",
    "    theta =  asin( 2*(q0*q2 - q3*q1))\n",
    "    psi = atan( 2* (q0*q3 + q1*q2) / (1 - 2*(q2**2 + q3**2)))\n",
    "    return phi, theta, psi"
   ]
  },
  {
   "cell_type": "code",
   "execution_count": null,
   "metadata": {},
   "outputs": [],
   "source": [
    "print(\"Résultat en Euler : \", QuaternionToEuler(1,1,1,1))"
   ]
  },
  {
   "cell_type": "markdown",
   "metadata": {},
   "source": [
    "Création du référentiel d'Euler par rapport au référentiel cartésien "
   ]
  },
  {
   "cell_type": "code",
   "execution_count": null,
   "metadata": {},
   "outputs": [],
   "source": [
    "def EulerToFix(phi, theta, psi, x) : \n",
    "    A =  np.zeros((3,3))\n",
    "    A[0,0] = cos(psi)*cos(phi) - sin(psi)*cos(theta)*sin(phi)\n",
    "    A[1,0] = sin(psi)*cos(phi) + cos(psi)*cos(theta)*sin(phi)\n",
    "    A[2,0] = sin(theta)*sin(phi)\n",
    "    A[0,1] = -cos(psi)*sin(phi)-sin(psi)*cos(theta)*cos(phi) \n",
    "    A[1,1] = -sin(psi)*sin(phi)+cos(psi)*cos(theta)*cos(phi)\n",
    "    A[2,1] = sin(theta)*cos(phi)\n",
    "    A[0,2] = sin(psi)*sin(theta)\n",
    "    A[1,2] = -cos(psi)*sin(theta)\n",
    "    A[2,2] = cos(theta)\n",
    "    return A.dot(x)"
   ]
  },
  {
   "cell_type": "code",
   "execution_count": null,
   "metadata": {
    "scrolled": true
   },
   "outputs": [],
   "source": [
    "def ChangeReferentiel(q0,q1,q2,q3) : \n",
    "    phi, theta, psi = QuaternionToEuler(q0,q1,q2,q3)\n",
    "\n",
    "    x = EulerToFix(phi,theta,psi, [1,0,0])\n",
    "    y = EulerToFix(phi,theta,psi, [0,1,0])\n",
    "    z = EulerToFix(phi,theta,psi, [0,0,1])\n",
    "\n",
    "    fig = plt.figure()\n",
    "    ax = plt.axes(projection ='3d')\n",
    "    ax.set_xlabel('X')\n",
    "    ax.set_ylabel('Y')\n",
    "    ax.set_zlabel('Z')\n",
    "    fig= plt.plot([0.0, x[0]], [0.0, x[1]], [0.0, x[2]], 'r', label = \"x_euler\")\n",
    "    fig = plt.plot([0.0, y[0]], [0.0, y[1]], [0.0, y[2]], 'b', label= \"y_euler\")\n",
    "    fig = plt.plot([0.0, z[0]], [0.0, z[1]], [0.0, z[2]], 'g', label = \"z_euler\")\n",
    "    plt.legend()\n"
   ]
  },
  {
   "cell_type": "code",
   "execution_count": null,
   "metadata": {},
   "outputs": [],
   "source": [
    "ChangeReferentiel(0.6,0.5,1,0.6)"
   ]
  },
  {
   "cell_type": "code",
   "execution_count": null,
   "metadata": {},
   "outputs": [],
   "source": [
    "class Quaternion(param.Parameterized):\n",
    "    q0 = param.Number(0.1, bounds=(-3,3))\n",
    "    q1 = param.Number(0.1, bounds=(-3,3))\n",
    "    q2 = param.Number(0.1, bounds=(-3,3))\n",
    "    q3 = param.Number(0.1, bounds=(-3,3))\n",
    "\n",
    "    def view(self) : \n",
    "        phi, theta, psi = QuaternionToEuler(self.q0,self.q1,self.q2,self.q3)\n",
    "\n",
    "        x = EulerToFix(phi,theta,psi, [1,0,0])\n",
    "        y = EulerToFix(phi,theta,psi, [0,1,0])\n",
    "        z = EulerToFix(phi,theta,psi, [0,0,1])\n",
    "        fig = plt.figure()\n",
    "        ax = plt.axes(projection ='3d')\n",
    "        fig = plt.plot([0.0, x[0]], [0.0, x[1]], [0.0, x[2]], 'r')\n",
    "        fig = plt.plot([0.0, y[0]], [0.0, y[1]], [0.0, y[2]], 'b')\n",
    "        fig = plt.plot([0.0, z[0]], [0.0, z[1]], [0.0, z[2]], 'g')\n",
    "        return "
   ]
  },
  {
   "cell_type": "code",
   "execution_count": null,
   "metadata": {},
   "outputs": [],
   "source": [
    "result = Quaternion()\n",
    "pn.Row(result.param, result.view)"
   ]
  },
  {
   "cell_type": "code",
   "execution_count": null,
   "metadata": {},
   "outputs": [],
   "source": []
  },
  {
   "cell_type": "code",
   "execution_count": null,
   "metadata": {},
   "outputs": [],
   "source": []
  }
 ],
 "metadata": {
  "kernelspec": {
   "display_name": "Python 3",
   "language": "python",
   "name": "python3"
  },
  "language_info": {
   "codemirror_mode": {
    "name": "ipython",
    "version": 3
   },
   "file_extension": ".py",
   "mimetype": "text/x-python",
   "name": "python",
   "nbconvert_exporter": "python",
   "pygments_lexer": "ipython3",
   "version": "3.7.6"
  }
 },
 "nbformat": 4,
 "nbformat_minor": 4
}
